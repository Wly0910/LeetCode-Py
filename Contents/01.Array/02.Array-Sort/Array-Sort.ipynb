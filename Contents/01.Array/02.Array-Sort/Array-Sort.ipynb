{
 "cells": [
  {
   "cell_type": "markdown",
   "metadata": {},
   "source": [
    "# Bubble Sort"
   ]
  },
  {
   "cell_type": "code",
   "execution_count": 1,
   "metadata": {},
   "outputs": [],
   "source": [
    "class Solution:\n",
    "    def Bubble_sort(self, nums: [int]) -> [int]:  # 带类型参数注解\n",
    "        for i in range(len(nums - 1)):\n",
    "            flag = False\n",
    "            for j in range(len(nums) - i - 1):\n",
    "                if nums[j] > nums[j + 1]:\n",
    "                    nums[j], nums[j + 1] = nums[j + 1], nums[j]\n",
    "                    flag = True\n",
    "            if not flag:  # flag == False\n",
    "                break\n",
    "        return nums\n",
    "\n",
    "    def sortArray(self, nums: [int]) -> [int]:\n",
    "        return self.Bubble_sort(nums)\n",
    "\n"
   ]
  },
  {
   "cell_type": "markdown",
   "metadata": {},
   "source": [
    "# Selection Sort"
   ]
  },
  {
   "cell_type": "code",
   "execution_count": 3,
   "metadata": {},
   "outputs": [],
   "source": [
    "class Solution:\n",
    "    def selectionSort(self, nums:[int]) -> [int]:\n",
    "        for i in range(len(nums) - 1):\n",
    "            min_i = i\n",
    "            for j in range(i + 1, len(nums)):\n",
    "                if nums[j] < nums[min_i]:\n",
    "                    min_i = j\n",
    "                if i != min_i:\n",
    "                    nums[i], nums[min_i] = nums[min_i], nums[i]\n",
    "        return nums\n",
    "                    \n",
    "    def sortArray(self, nums: [int]) -> [int]:\n",
    "        return self.selectionSort(nums)"
   ]
  },
  {
   "cell_type": "markdown",
   "metadata": {},
   "source": [
    "# Insertion Sort"
   ]
  },
  {
   "cell_type": "code",
   "execution_count": null,
   "metadata": {},
   "outputs": [],
   "source": [
    "class Solution:\n",
    "    def insertionSort(self, nums: [int]) -> [int]:\n",
    "        # 遍历无序区间\n",
    "        for i in range(1, len(nums)):\n",
    "            temp = nums[i]\n",
    "            j = i\n",
    "            # 从右至左遍历有序区间\n",
    "            while j > 0 and nums[j - 1] > temp:\n",
    "                # 将有序区间中插入位置右侧的元素依次右移一位\n",
    "                nums[j] = nums[j - 1]\n",
    "                j -= 1\n",
    "            # 将该元素插入到适当位置\n",
    "            nums[j] = temp\n",
    "\n",
    "        return nums\n",
    "\n",
    "    def sortArray(self, nums: [int]) -> [int]:\n",
    "        return self.insertionSort(nums)"
   ]
  },
  {
   "cell_type": "markdown",
   "metadata": {},
   "source": [
    "# Shell Sort"
   ]
  },
  {
   "cell_type": "code",
   "execution_count": null,
   "metadata": {},
   "outputs": [],
   "source": [
    "class Solution:\n",
    "    def shellSort(self, nums: [int]) -> [int]:\n",
    "        size = len(nums)\n",
    "        gap = size // 2\n",
    "        # 按照 gap 分组\n",
    "        while gap > 0:\n",
    "            # 对每组元素进行插入排序\n",
    "            for i in range(gap, size):\n",
    "                # temp 为每组中无序数组第 1 个元素\n",
    "                temp = nums[i]\n",
    "                j = i\n",
    "                # 从右至左遍历每组中的有序数组元素\n",
    "                while j >= gap and nums[j - gap] > temp:\n",
    "                    # 将每组有序数组中插入位置右侧的元素依次在组中右移一位\n",
    "                    nums[j] = nums[j - gap]\n",
    "                    j -= gap\n",
    "                # 将该元素插入到适当位置\n",
    "                nums[j] = temp\n",
    "            # 缩小 gap 间隔\n",
    "            gap = gap // 2\n",
    "        return nums\n",
    "\n",
    "    def sortArray(self, nums: [int]) -> [int]:\n",
    "        return self.shellSort(nums)"
   ]
  }
 ],
 "metadata": {
  "kernelspec": {
   "display_name": "swin",
   "language": "python",
   "name": "python3"
  },
  "language_info": {
   "codemirror_mode": {
    "name": "ipython",
    "version": 3
   },
   "file_extension": ".py",
   "mimetype": "text/x-python",
   "name": "python",
   "nbconvert_exporter": "python",
   "pygments_lexer": "ipython3",
   "version": "3.7.13"
  },
  "orig_nbformat": 4
 },
 "nbformat": 4,
 "nbformat_minor": 2
}
