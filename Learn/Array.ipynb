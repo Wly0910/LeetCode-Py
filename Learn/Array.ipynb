{
 "cells": [
  {
   "cell_type": "markdown",
   "metadata": {},
   "source": [
    "# 访问元素"
   ]
  },
  {
   "cell_type": "code",
   "execution_count": 14,
   "metadata": {},
   "outputs": [
    {
     "name": "stdout",
     "output_type": "stream",
     "text": [
      "[1 3 1 3]\n",
      "3\n"
     ]
    }
   ],
   "source": [
    "# 从数组中读取下标为i的element\n",
    "import numpy as np\n",
    "\n",
    "def value(nums, i):\n",
    "    if 0 <= i <= len(nums) - 1:\n",
    "        print(nums[i])\n",
    "\n",
    "\n",
    "arr = np.random.randint(1, 10, 4)\n",
    "print(arr)\n",
    "value(arr, 3)\n"
   ]
  },
  {
   "cell_type": "markdown",
   "metadata": {},
   "source": [
    "# 查找元素"
   ]
  },
  {
   "cell_type": "code",
   "execution_count": 13,
   "metadata": {},
   "outputs": [
    {
     "name": "stdout",
     "output_type": "stream",
     "text": [
      "[4 6 5 9]\n",
      "0\n"
     ]
    }
   ],
   "source": [
    "def find(nums, values):\n",
    "    for i in range(len(nums)):\n",
    "        if nums[i] == values:\n",
    "            return i\n",
    "    return -1\n",
    "\n",
    "arr = np.random.randint(1, 10, 4)\n",
    "print(arr)\n",
    "print(find(arr, 4))"
   ]
  },
  {
   "cell_type": "markdown",
   "metadata": {},
   "source": [
    "# Insert Element\n"
   ]
  },
  {
   "cell_type": "code",
   "execution_count": 24,
   "metadata": {},
   "outputs": [
    {
     "name": "stdout",
     "output_type": "stream",
     "text": [
      "[0, 5, 4, 2, 3, 7, 1, 6, 4]\n"
     ]
    }
   ],
   "source": [
    "arr = [0, 5, 2, 3, 7, 1, 6]\n",
    "val = 4\n",
    "arr.append(val)\n",
    "i, val = 2, 4\n",
    "arr.insert(i, val)\n",
    "print(arr)\n"
   ]
  },
  {
   "cell_type": "markdown",
   "metadata": {},
   "source": [
    "# Change Element"
   ]
  },
  {
   "cell_type": "code",
   "execution_count": null,
   "metadata": {},
   "outputs": [],
   "source": [
    "def change(nums, i, val):\n",
    "    if 0 <= i <= len(nums) - 1:\n",
    "        nums[i] = val\n",
    "        \n",
    "arr = [0, 5, 2, 3, 7, 1, 6]\n",
    "i, val = 2, 4\n",
    "change(arr, i, val)\n",
    "print(arr)"
   ]
  },
  {
   "cell_type": "markdown",
   "metadata": {},
   "source": [
    "# Delete Element"
   ]
  },
  {
   "cell_type": "code",
   "execution_count": 2,
   "metadata": {},
   "outputs": [
    {
     "name": "stdout",
     "output_type": "stream",
     "text": [
      "[5, 2, 7, 1, 6]\n"
     ]
    }
   ],
   "source": [
    "\n",
    "arr = [0, 5, 2, 3, 7, 1, 6]\n",
    "i = 3\n",
    "arr.pop(i)\n",
    "arr.remove(0)\n",
    "print(arr)\n",
    "\n"
   ]
  }
 ],
 "metadata": {
  "kernelspec": {
   "display_name": "swin",
   "language": "python",
   "name": "python3"
  },
  "language_info": {
   "codemirror_mode": {
    "name": "ipython",
    "version": 3
   },
   "file_extension": ".py",
   "mimetype": "text/x-python",
   "name": "python",
   "nbconvert_exporter": "python",
   "pygments_lexer": "ipython3",
   "version": "3.7.13"
  },
  "orig_nbformat": 4
 },
 "nbformat": 4,
 "nbformat_minor": 2
}
